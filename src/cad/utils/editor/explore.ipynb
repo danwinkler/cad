{
 "cells": [
  {
   "cell_type": "code",
   "execution_count": 10,
   "metadata": {},
   "outputs": [],
   "source": [
    "from shapely.geometry import box\n",
    "import trimesh\n",
    "import numpy as np\n"
   ]
  },
  {
   "cell_type": "code",
   "execution_count": 11,
   "metadata": {},
   "outputs": [],
   "source": [
    "shape = box(0, 0, 10, 10) - box(2, 2, 8, 8)\n",
    "\n",
    "mesh = trimesh.creation.extrude_polygon(shape, 1.0)\n",
    "\n",
    "# mesh.show()\n"
   ]
  },
  {
   "cell_type": "code",
   "execution_count": 13,
   "metadata": {},
   "outputs": [
    {
     "data": {
      "text/plain": [
       "array([ 0.        , 10.        ,  0.        , -0.57735027,  0.57735027,\n",
       "       -0.57735027, 10.        , 10.        ,  0.        ,  0.57735027,\n",
       "        0.57735027, -0.57735027, 10.        ,  0.        ,  0.        ,\n",
       "        0.57735027, -0.57735027, -0.57735027,  0.        ,  0.        ,\n",
       "        0.        , -0.57735027, -0.57735027, -0.57735027,  2.        ,\n",
       "        8.        ,  0.        ,  0.30151134, -0.30151134, -0.90453403,\n",
       "        2.        ,  2.        ,  0.        ,  0.30151134,  0.30151134,\n",
       "       -0.90453403,  8.        ,  2.        ,  0.        , -0.30151134,\n",
       "        0.30151134, -0.90453403,  8.        ,  8.        ,  0.        ,\n",
       "       -0.30151134, -0.30151134, -0.90453403,  0.        , 10.        ,\n",
       "        1.        , -0.57735027,  0.57735027,  0.57735027, 10.        ,\n",
       "       10.        ,  1.        ,  0.57735027,  0.57735027,  0.57735027,\n",
       "       10.        ,  0.        ,  1.        ,  0.57735027, -0.57735027,\n",
       "        0.57735027,  0.        ,  0.        ,  1.        , -0.57735027,\n",
       "       -0.57735027,  0.57735027,  2.        ,  8.        ,  1.        ,\n",
       "        0.30151134, -0.30151134,  0.90453403,  2.        ,  2.        ,\n",
       "        1.        ,  0.30151134,  0.30151134,  0.90453403,  8.        ,\n",
       "        2.        ,  1.        , -0.30151134,  0.30151134,  0.90453403,\n",
       "        8.        ,  8.        ,  1.        , -0.30151134, -0.30151134,\n",
       "        0.90453403])"
      ]
     },
     "execution_count": 13,
     "metadata": {},
     "output_type": "execute_result"
    }
   ],
   "source": [
    "np.concatenate([mesh.vertices, mesh.vertex_normals], axis=1).flatten()\n"
   ]
  },
  {
   "cell_type": "code",
   "execution_count": null,
   "metadata": {},
   "outputs": [],
   "source": []
  }
 ],
 "metadata": {
  "kernelspec": {
   "display_name": ".venv",
   "language": "python",
   "name": "python3"
  },
  "language_info": {
   "codemirror_mode": {
    "name": "ipython",
    "version": 3
   },
   "file_extension": ".py",
   "mimetype": "text/x-python",
   "name": "python",
   "nbconvert_exporter": "python",
   "pygments_lexer": "ipython3",
   "version": "3.10.11"
  }
 },
 "nbformat": 4,
 "nbformat_minor": 2
}
